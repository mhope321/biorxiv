{
 "cells": [
  {
   "cell_type": "code",
   "execution_count": null,
   "metadata": {},
   "outputs": [],
   "source": [
    "#query =\"(((Constantin Georgescu[Author]) AND (Joshua M. Corbin[Author])) AND (Jonathan D. Wren[Author])) AND (Maria J. Ruiz-Echevarría[Author])\"\n",
    "\n",
    "\n"
   ]
  },
  {
   "cell_type": "code",
   "execution_count": null,
   "metadata": {},
   "outputs": [],
   "source": []
  },
  {
   "cell_type": "code",
   "execution_count": 37,
   "metadata": {},
   "outputs": [],
   "source": [
    "base = 'https://eutils.ncbi.nlm.nih.gov/entrez/eutils/'\n",
    "esearch= 'esearch.fcgi?'\n",
    "efetch= 'efetch.fcgi?'\n",
    "esummary = 'esummary.fcgi?'\n",
    "elink = 'elink.fcgi?'\n",
    "\n",
    "db= 'db=pubmed&'\n",
    "pmc = 'db=pmc&'\n",
    "field= 'field=author&'\n",
    "term = 'term=constantin+georgescu+AND+joshua+corbin+AND+jonathan+wren&'\n",
    "api = 'api_key=56a5fd6220202c3f7c1c924f215c4188b708&'\n",
    "webenv = 'WebEnv=MCID_5f9ef10d93ad2c45ee79366b&'\n",
    "history = 'usehistory=y&'\n",
    "term2 = 'term=ricardo+gargini+AND+berta+segura-collar+AND+beatriz+herránz&'\n",
    "term3 = 'term=ilaria+rebay&'\n",
    "rebay_webenv = 'WebEnv=MCID_5f9ef982f19aaa19c6280190&'\n",
    "rebay_querykey = 'query_key=1&'\n",
    "retype = \"rettype=abstract&\"\n",
    "retmode = \"retmode=text&\"\n",
    "rebay_webenv_pmc =\"WebEnv=MCID_5f9f017c49799354747078fb&\"\n",
    "retype_xml = \"rettype=xml&\""
   ]
  },
  {
   "cell_type": "code",
   "execution_count": 2,
   "metadata": {},
   "outputs": [
    {
     "data": {
      "text/plain": [
       "'https://eutils.ncbi.nlm.nih.gov/entrez/eutils/esearch.fcgi?db=pubmed&field=author&term=constantin+georgescu+AND+joshua+corbin+AND+jonathan+wren&usehistory=y'"
      ]
     },
     "execution_count": 2,
     "metadata": {},
     "output_type": "execute_result"
    }
   ],
   "source": [
    "base+db+field+term+history"
   ]
  },
  {
   "cell_type": "code",
   "execution_count": 6,
   "metadata": {},
   "outputs": [
    {
     "data": {
      "text/plain": [
       "'https://eutils.ncbi.nlm.nih.gov/entrez/eutils/esearch.fcgi?db=pubmed&field=author&term=constantin+georgescu+AND+joshua+corbin+AND+jonathan+wren&api_key=56a5fd6220202c3f7c1c924f215c4188b708&usehistory=y'"
      ]
     },
     "execution_count": 6,
     "metadata": {},
     "output_type": "execute_result"
    }
   ],
   "source": [
    "base+db+field+term+api+history"
   ]
  },
  {
   "cell_type": "code",
   "execution_count": 8,
   "metadata": {},
   "outputs": [
    {
     "data": {
      "text/plain": [
       "'https://eutils.ncbi.nlm.nih.gov/entrez/eutils/esearch.fcgi?db=pubmed&field=author&term=ricardo+gargini+AND+berta+segura-collar+AND+beatriz+herránz&api_key=56a5fd6220202c3f7c1c924f215c4188b708&MCID_5f9ef10d93ad2c45ee79366b&usehistory=y'"
      ]
     },
     "execution_count": 8,
     "metadata": {},
     "output_type": "execute_result"
    }
   ],
   "source": [
    "base+db+field+term2+api+webenv+history"
   ]
  },
  {
   "cell_type": "code",
   "execution_count": 10,
   "metadata": {},
   "outputs": [
    {
     "data": {
      "text/plain": [
       "'https://eutils.ncbi.nlm.nih.gov/entrez/eutils/esearch.fcgi?db=pubmed&field=author&term=ilaria+rebay&api_key=56a5fd6220202c3f7c1c924f215c4188b708&usehistory=y'"
      ]
     },
     "execution_count": 10,
     "metadata": {},
     "output_type": "execute_result"
    }
   ],
   "source": [
    "base+db+field+term3+api+history"
   ]
  },
  {
   "cell_type": "code",
   "execution_count": 15,
   "metadata": {},
   "outputs": [
    {
     "data": {
      "text/plain": [
       "'https://eutils.ncbi.nlm.nih.gov/entrez/eutils/esummary.fcgi?db=pubmed&WebEnv=MCID_5f9ef982f19aaa19c6280190&query_key=1'"
      ]
     },
     "execution_count": 15,
     "metadata": {},
     "output_type": "execute_result"
    }
   ],
   "source": [
    "\"https://eutils.ncbi.nlm.nih.gov/entrez/eutils/esummary.fcgi?\"+db+rebay_webenv+rebay_querykey"
   ]
  },
  {
   "cell_type": "code",
   "execution_count": null,
   "metadata": {},
   "outputs": [],
   "source": [
    "esummary.fcgi?db=database&WebEnv=webenv&query_key=key   db=$db&query_key=$key&WebEnv=$web&rettype=abstract&retmode=text\""
   ]
  },
  {
   "cell_type": "code",
   "execution_count": 22,
   "metadata": {},
   "outputs": [
    {
     "data": {
      "text/plain": [
       "'https://eutils.ncbi.nlm.nih.gov/entrez/eutils/efetch.fcgi?db=pubmed&WebEnv=MCID_5f9ef982f19aaa19c6280190&query_key=1&rettype=abstract&retmode=text&'"
      ]
     },
     "execution_count": 22,
     "metadata": {},
     "output_type": "execute_result"
    }
   ],
   "source": [
    "\"https://eutils.ncbi.nlm.nih.gov/entrez/eutils/efetch.fcgi?\"+db+rebay_webenv+rebay_querykey+retype+retmode"
   ]
  },
  {
   "cell_type": "code",
   "execution_count": 25,
   "metadata": {},
   "outputs": [
    {
     "data": {
      "text/plain": [
       "'https://eutils.ncbi.nlm.nih.gov/entrez/eutils/esearch.fcgi?db=pmc&field=author&term=ilaria+rebay&usehistory=y'"
      ]
     },
     "execution_count": 25,
     "metadata": {},
     "output_type": "execute_result"
    }
   ],
   "source": [
    "base+esearch+pmc+field+term3+history"
   ]
  },
  {
   "cell_type": "code",
   "execution_count": 27,
   "metadata": {},
   "outputs": [
    {
     "data": {
      "text/plain": [
       "'https://eutils.ncbi.nlm.nih.gov/entrez/eutils/esummary.fcgi?db=pmc&WebEnv=MCID_5f9f017c49799354747078fb&query_key=1&'"
      ]
     },
     "execution_count": 27,
     "metadata": {},
     "output_type": "execute_result"
    }
   ],
   "source": [
    "base+esummary+pmc+rebay_webenv_pmc+rebay_querykey"
   ]
  },
  {
   "cell_type": "code",
   "execution_count": 31,
   "metadata": {},
   "outputs": [
    {
     "data": {
      "text/plain": [
       "'https://eutils.ncbi.nlm.nih.gov/entrez/eutils/efetch.fcgi?db=pmc&WebEnv=MCID_5f9f017c49799354747078fb&query_key=1&rettype=xml&'"
      ]
     },
     "execution_count": 31,
     "metadata": {},
     "output_type": "execute_result"
    }
   ],
   "source": [
    "base+efetch+pmc+rebay_webenv_pmc+rebay_querykey+retype_xml"
   ]
  },
  {
   "cell_type": "code",
   "execution_count": null,
   "metadata": {},
   "outputs": [],
   "source": []
  },
  {
   "cell_type": "code",
   "execution_count": null,
   "metadata": {},
   "outputs": [],
   "source": []
  },
  {
   "cell_type": "code",
   "execution_count": null,
   "metadata": {},
   "outputs": [],
   "source": [
    "https://eutils.ncbi.nlm.nih.gov/entrez/eutils/elink.fcgi?dbfrom=pubmed&linkname=pubmed_pubmed_citedin&id=30412049\n",
    "    \n",
    "    "
   ]
  },
  {
   "cell_type": "code",
   "execution_count": 34,
   "metadata": {},
   "outputs": [],
   "source": [
    "combo_webenv='WebEnv=MCID_5f9f0c74271d624ea97dd721'"
   ]
  },
  {
   "cell_type": "code",
   "execution_count": 33,
   "metadata": {},
   "outputs": [
    {
     "data": {
      "text/plain": [
       "'https://eutils.ncbi.nlm.nih.gov/entrez/eutils/esearch.fcgi?db=pubmed&field=author&term=constantin+georgescu+AND+joshua+corbin+AND+jonathan+wren&usehistory=y'"
      ]
     },
     "execution_count": 33,
     "metadata": {},
     "output_type": "execute_result"
    }
   ],
   "source": [
    "base+esearch+db+field+term+history"
   ]
  },
  {
   "cell_type": "code",
   "execution_count": 38,
   "metadata": {},
   "outputs": [
    {
     "data": {
      "text/plain": [
       "'https://eutils.ncbi.nlm.nih.gov/entrez/eutils/esearch.fcgi?db=pubmed&field=author&term=ricardo+gargini+AND+berta+segura-collar+AND+beatriz+herránz&usehistory=y&WebEnv=MCID_5f9f0c74271d624ea97dd721'"
      ]
     },
     "execution_count": 38,
     "metadata": {},
     "output_type": "execute_result"
    }
   ],
   "source": [
    "base+esearch+db+field+term2+history+combo_webenv"
   ]
  },
  {
   "cell_type": "code",
   "execution_count": 41,
   "metadata": {},
   "outputs": [
    {
     "data": {
      "text/plain": [
       "'https://eutils.ncbi.nlm.nih.gov/entrez/eutils/esearch.fcgi?db=pubmed&field=author&term=constantin+georgescu+AND+joshua+corbin+AND+jonathan+wren&usehistory=y&'"
      ]
     },
     "execution_count": 41,
     "metadata": {},
     "output_type": "execute_result"
    }
   ],
   "source": [
    "url = base+esearch+db+field+term+history\n",
    "url"
   ]
  },
  {
   "cell_type": "code",
   "execution_count": 44,
   "metadata": {},
   "outputs": [],
   "source": [
    "import requests\n",
    "import re"
   ]
  },
  {
   "cell_type": "code",
   "execution_count": 42,
   "metadata": {},
   "outputs": [],
   "source": [
    "response=requests.get(url)\n"
   ]
  },
  {
   "cell_type": "code",
   "execution_count": 52,
   "metadata": {},
   "outputs": [],
   "source": [
    "def get_pubmed_id(authors):\n",
    "    base = 'https://eutils.ncbi.nlm.nih.gov/entrez/eutils/'\n",
    "    esearch= 'esearch.fcgi?'\n",
    "    db= 'db=pubmed&'\n",
    "    field= 'field=author&'\n",
    "    term_prefix = 'term='\n",
    "    and_syntax = '+AND+'\n",
    "    term_suffix = '&'\n",
    "    api = 'api_key=56a5fd6220202c3f7c1c924f215c4188b708'\n",
    "    \n",
    "    authors = authors.lower()\n",
    "    authors = authors.split(',')\n",
    "    \n",
    "    if len(authors) > 2:\n",
    "        term = re.sub(' ','+',authors[0])+and_syntax+re.sub(' ','+',authors[1])+and_syntax+re.sub(' ','+',authors[2])\n",
    "    elif len(authors) > 1:\n",
    "        term = re.sub(' ','+',authors[0])+and_syntax+re.sub(' ','+',authors[1])\n",
    "    elif len(authors) > 0:\n",
    "        term = re.sub(' ','+',authors[0])\n",
    "    else:\n",
    "        return \"No authors\"\n",
    "    url = base+esearch+db+field+term_prefix+term+term_suffix+api\n",
    "    \n",
    "    \n",
    "    response=requests.get(url)\n",
    "    id_list = re.split('<IdList>',response.text)[1]\n",
    "    id_list = re.split('</IdList>',id_list)[0]\n",
    "    \n",
    "    return id_list\n",
    "    "
   ]
  },
  {
   "cell_type": "code",
   "execution_count": 43,
   "metadata": {},
   "outputs": [
    {
     "data": {
      "text/plain": [
       "'<?xml version=\"1.0\" encoding=\"UTF-8\" ?>\\n<!DOCTYPE eSearchResult PUBLIC \"-//NLM//DTD esearch 20060628//EN\" \"https://eutils.ncbi.nlm.nih.gov/eutils/dtd/20060628/esearch.dtd\">\\n<eSearchResult><Count>1</Count><RetMax>1</RetMax><RetStart>0</RetStart><QueryKey>1</QueryKey><WebEnv>MCID_5f9f0ee53e4c1e5a5862aa58</WebEnv><IdList>\\n<Id>31060542</Id>\\n</IdList><TranslationSet><Translation>     <From>constantin georgescu</From>     <To>Georgescu, Constantin[Full Author Name]</To>    </Translation><Translation>     <From>joshua corbin</From>     <To>Corbin, Joshua[Full Author Name]</To>    </Translation><Translation>     <From>jonathan wren</From>     <To>Wren, Jonathan[Full Author Name]</To>    </Translation></TranslationSet><TranslationStack>   <TermSet>    <Term>Georgescu, Constantin[Full Author Name]</Term>    <Field>Full Author Name</Field>    <Count>34</Count>    <Explode>N</Explode>   </TermSet>   <TermSet>    <Term>Corbin, Joshua[Full Author Name]</Term>    <Field>Full Author Name</Field>    <Count>52</Count>    <Explode>N</Explode>   </TermSet>   <OP>AND</OP>   <TermSet>    <Term>Wren, Jonathan[Full Author Name]</Term>    <Field>Full Author Name</Field>    <Count>172</Count>    <Explode>N</Explode>   </TermSet>   <OP>AND</OP>  </TranslationStack><QueryTranslation>Georgescu, Constantin[Full Author Name] AND Corbin, Joshua[Full Author Name] AND Wren, Jonathan[Full Author Name]</QueryTranslation></eSearchResult>\\n'"
      ]
     },
     "execution_count": 43,
     "metadata": {},
     "output_type": "execute_result"
    }
   ],
   "source": [
    "response.text"
   ]
  },
  {
   "cell_type": "code",
   "execution_count": 53,
   "metadata": {},
   "outputs": [
    {
     "data": {
      "text/plain": [
       "'\\n<Id>31913126</Id>\\n'"
      ]
     },
     "execution_count": 53,
     "metadata": {},
     "output_type": "execute_result"
    }
   ],
   "source": [
    "get_pubmed_id('Jong Wook Kim,Christian Berrios,Miju Kim,Amy E. Schade,Guillaume Adelmant,Huwate Yeerna,Emily Damato,Amanda Balboni Iniguez,Selene K. Swanson,Laurence Florens,Michael P. Washburn,Kim Stegmaier,Nathaniel S. Gray,Pablo Tamayo,Ole Gjoerup,Jarrod A. Marto,James A. DeCaprio,William C. Hahn')"
   ]
  },
  {
   "cell_type": "code",
   "execution_count": null,
   "metadata": {},
   "outputs": [],
   "source": []
  },
  {
   "cell_type": "code",
   "execution_count": null,
   "metadata": {},
   "outputs": [],
   "source": []
  },
  {
   "cell_type": "code",
   "execution_count": null,
   "metadata": {},
   "outputs": [],
   "source": [
    "https://eutils.ncbi.nlm.nih.gov/entrez/eutils/elink.fcgi?dbfrom=pubmed&linkname=pubmed_pubmed_citedin&id=31690671"
   ]
  },
  {
   "cell_type": "code",
   "execution_count": null,
   "metadata": {},
   "outputs": [],
   "source": []
  }
 ],
 "metadata": {
  "kernelspec": {
   "display_name": "Python 3",
   "language": "python",
   "name": "python3"
  },
  "language_info": {
   "codemirror_mode": {
    "name": "ipython",
    "version": 3
   },
   "file_extension": ".py",
   "mimetype": "text/x-python",
   "name": "python",
   "nbconvert_exporter": "python",
   "pygments_lexer": "ipython3",
   "version": "3.7.4"
  }
 },
 "nbformat": 4,
 "nbformat_minor": 2
}
