{
 "cells": [
  {
   "cell_type": "code",
   "execution_count": 1,
   "metadata": {},
   "outputs": [
    {
     "name": "stderr",
     "output_type": "stream",
     "text": [
      "/Users/Matt/opt/anaconda3/lib/python3.7/site-packages/statsmodels/tools/_testing.py:19: FutureWarning: pandas.util.testing is deprecated. Use the functions in the public API at pandas.testing instead.\n",
      "  import pandas.util.testing as tm\n"
     ]
    }
   ],
   "source": [
    "import pandas as pd\n",
    "import numpy as np\n",
    "from matplotlib import pyplot as plt\n",
    "import seaborn as sns\n",
    "plt.style.use('ggplot')\n",
    "%matplotlib inline\n",
    "df = pd.read_csv(\"biorxiv-cleaned.csv\")"
   ]
  },
  {
   "cell_type": "code",
   "execution_count": 2,
   "metadata": {},
   "outputs": [
    {
     "data": {
      "text/html": [
       "<div>\n",
       "<style scoped>\n",
       "    .dataframe tbody tr th:only-of-type {\n",
       "        vertical-align: middle;\n",
       "    }\n",
       "\n",
       "    .dataframe tbody tr th {\n",
       "        vertical-align: top;\n",
       "    }\n",
       "\n",
       "    .dataframe thead th {\n",
       "        text-align: right;\n",
       "    }\n",
       "</style>\n",
       "<table border=\"1\" class=\"dataframe\">\n",
       "  <thead>\n",
       "    <tr style=\"text-align: right;\">\n",
       "      <th></th>\n",
       "      <th>Unnamed: 0</th>\n",
       "      <th>affiliation_nums</th>\n",
       "      <th>affiliation_text</th>\n",
       "      <th>author_names</th>\n",
       "      <th>date_posted</th>\n",
       "      <th>doi</th>\n",
       "      <th>downloads</th>\n",
       "      <th>paper_title</th>\n",
       "      <th>subject_area</th>\n",
       "      <th>pmid</th>\n",
       "      <th>pmid_links</th>\n",
       "      <th>pmid_links_num</th>\n",
       "      <th>total_downloads</th>\n",
       "    </tr>\n",
       "  </thead>\n",
       "  <tbody>\n",
       "    <tr>\n",
       "      <th>0</th>\n",
       "      <td>0</td>\n",
       "      <td>['1', '1', '1', '1', '1', '1', '1', '1', '2', ...</td>\n",
       "      <td>['Yale University', 'Central South University'...</td>\n",
       "      <td>Meiling Zhang,Zongzhi Liu,Keisuke Aoshima,Yang...</td>\n",
       "      <td>2020-10-23</td>\n",
       "      <td>https://doi.org/10.1101/2020.09.10.291799</td>\n",
       "      <td>[['Sep 2020', '218', '29', '45', ''], ['Oct 20...</td>\n",
       "      <td>CECR2 Drives Breast Cancer Metastasis by Suppr...</td>\n",
       "      <td>Cancer Biology,\\n</td>\n",
       "      <td>31690671</td>\n",
       "      <td>[]</td>\n",
       "      <td>0</td>\n",
       "      <td>445</td>\n",
       "    </tr>\n",
       "    <tr>\n",
       "      <th>1</th>\n",
       "      <td>1</td>\n",
       "      <td>['1', '3', '2']</td>\n",
       "      <td>['shanghaiTech University', 'ShanghaiTech Univ...</td>\n",
       "      <td>Tian Chi,Mingming Jia</td>\n",
       "      <td>2020-10-27</td>\n",
       "      <td>https://doi.org/10.1101/2020.10.26.356220</td>\n",
       "      <td>[['Oct 2020', '222', '37', '']]</td>\n",
       "      <td>Sex-specific predictive values of biomarkers f...</td>\n",
       "      <td>Cancer Biology,\\n</td>\n",
       "      <td>32154170</td>\n",
       "      <td>['32449246']</td>\n",
       "      <td>1</td>\n",
       "      <td>222</td>\n",
       "    </tr>\n",
       "    <tr>\n",
       "      <th>2</th>\n",
       "      <td>2</td>\n",
       "      <td>['1', '1', '2', '3', '4', '2', '1', '5', '*']</td>\n",
       "      <td>['Kanpur, 208016, U.P., INDIA,, Detroit, MI 48...</td>\n",
       "      <td>Sakshi Goel,Vipul Bhatia,Shannon Carskadon,Nil...</td>\n",
       "      <td>2020-08-29</td>\n",
       "      <td>https://doi.org/10.1101/2020.08.28.271916</td>\n",
       "      <td>[['Aug 2020', '552', '8', '116', ''], ['Sep 20...</td>\n",
       "      <td>Transcriptional network involving ERG and AR o...</td>\n",
       "      <td>Cancer Biology,\\n</td>\n",
       "      <td>30587549</td>\n",
       "      <td>['33043165', '32896760', '32266486', '32126023...</td>\n",
       "      <td>9</td>\n",
       "      <td>962</td>\n",
       "    </tr>\n",
       "    <tr>\n",
       "      <th>3</th>\n",
       "      <td>3</td>\n",
       "      <td>['1', '2', '3', '4', '1', '1', '*']</td>\n",
       "      <td>['Tampa, FL, USA,, Oxford, UK,, Birmingham, AL...</td>\n",
       "      <td>Jacob G. Scott,Anita B. Hjelmeland,Prakash Chi...</td>\n",
       "      <td>2013-11-07</td>\n",
       "      <td>https://doi.org/10.1101/000141</td>\n",
       "      <td>[['Nov 2013', '248', '0', '27', ''], ['Dec 201...</td>\n",
       "      <td>Microenvironmental variables must influence in...</td>\n",
       "      <td>Cancer Biology,\\n</td>\n",
       "      <td>24453958</td>\n",
       "      <td>['30992437', '29392399', '29351275', '28669884...</td>\n",
       "      <td>18</td>\n",
       "      <td>3560</td>\n",
       "    </tr>\n",
       "    <tr>\n",
       "      <th>4</th>\n",
       "      <td>4</td>\n",
       "      <td>['1', '2', '3']</td>\n",
       "      <td>['CUNY, The Graduate Center, New York, 365 Fif...</td>\n",
       "      <td>Loes Olde Loohuis,Andreas Witzel,Bud Mishra</td>\n",
       "      <td>2014-01-02</td>\n",
       "      <td>https://doi.org/10.1101/001651</td>\n",
       "      <td>[['Jan 2014', '171', '0', '99', ''], ['Feb 201...</td>\n",
       "      <td>Power-law Null Model for Bystander Mutations i...</td>\n",
       "      <td>Cancer Biology,\\n</td>\n",
       "      <td>26357061</td>\n",
       "      <td>[]</td>\n",
       "      <td>0</td>\n",
       "      <td>1827</td>\n",
       "    </tr>\n",
       "    <tr>\n",
       "      <th>...</th>\n",
       "      <td>...</td>\n",
       "      <td>...</td>\n",
       "      <td>...</td>\n",
       "      <td>...</td>\n",
       "      <td>...</td>\n",
       "      <td>...</td>\n",
       "      <td>...</td>\n",
       "      <td>...</td>\n",
       "      <td>...</td>\n",
       "      <td>...</td>\n",
       "      <td>...</td>\n",
       "      <td>...</td>\n",
       "      <td>...</td>\n",
       "    </tr>\n",
       "    <tr>\n",
       "      <th>1427</th>\n",
       "      <td>1427</td>\n",
       "      <td>['1', '2', '#', '1', '#', '1', '1', '2', '3', ...</td>\n",
       "      <td>['Atlanta, GA USA,, Atlanta, GA, USA,, Atlanta...</td>\n",
       "      <td>Briana Rackley,Chang-Soo Seong,Evan Kiely,Rebe...</td>\n",
       "      <td>2020-09-25</td>\n",
       "      <td>https://doi.org/10.1101/2020.09.25.308080</td>\n",
       "      <td>[['Sep 2020', '437', '19', '58', ''], ['Oct 20...</td>\n",
       "      <td>The level of oncogenic Ras controls the malign...</td>\n",
       "      <td>Cancer Biology,\\n</td>\n",
       "      <td>32550498</td>\n",
       "      <td>[]</td>\n",
       "      <td>0</td>\n",
       "      <td>558</td>\n",
       "    </tr>\n",
       "    <tr>\n",
       "      <th>1428</th>\n",
       "      <td>1428</td>\n",
       "      <td>['1', '1', '1', '1', '1', '1', '2', '3', '1', ...</td>\n",
       "      <td>['Richmond, VA, 23298,, Richmond VA 23298,, Ri...</td>\n",
       "      <td>Christian T Fontan,Dipon Das,Molly L Bristol,C...</td>\n",
       "      <td>2020-09-26</td>\n",
       "      <td>https://doi.org/10.1101/2020.09.25.314484</td>\n",
       "      <td>[['Sep 2020', '363', '10', '41', ''], ['Oct 20...</td>\n",
       "      <td>Human papillomavirus 16 E2 repression of TWIST...</td>\n",
       "      <td>Cancer Biology,\\n</td>\n",
       "      <td>31915229</td>\n",
       "      <td>['33066318', '32938703', '32899142', '32545729...</td>\n",
       "      <td>6</td>\n",
       "      <td>464</td>\n",
       "    </tr>\n",
       "    <tr>\n",
       "      <th>1429</th>\n",
       "      <td>1429</td>\n",
       "      <td>['1', '1', '1', '1', '1', '1', '2', '1', '3', ...</td>\n",
       "      <td>['Columbus OH,, Ann Arbor, MI, 48109,, San Ant...</td>\n",
       "      <td>Safiya Khurshid,Matias Montes,Daniel F. Comisk...</td>\n",
       "      <td>2020-10-02</td>\n",
       "      <td>https://doi.org/10.1101/2020.10.02.324053</td>\n",
       "      <td>[['Oct 2020', '361', '18', '61', '']]</td>\n",
       "      <td>Splice-switching of the insulin receptor in rh...</td>\n",
       "      <td>Cancer Biology,\\n</td>\n",
       "      <td>31662450</td>\n",
       "      <td>[]</td>\n",
       "      <td>0</td>\n",
       "      <td>361</td>\n",
       "    </tr>\n",
       "    <tr>\n",
       "      <th>1430</th>\n",
       "      <td>1430</td>\n",
       "      <td>['1', '#', '*', '15', '1', '2', '#', '1', '3',...</td>\n",
       "      <td>['Marseille, France,, Paris, France,, La Tronc...</td>\n",
       "      <td>Sonia Brun,Eric Raymond,Firas Bassissi,Zuzana ...</td>\n",
       "      <td>2020-10-01</td>\n",
       "      <td>https://doi.org/10.1101/2020.09.30.320010</td>\n",
       "      <td>[['Oct 2020', '277', '52', '71', '']]</td>\n",
       "      <td>GNS561, a clinical-stage PPT1 inhibitor, has p...</td>\n",
       "      <td>Cancer Biology,\\n</td>\n",
       "      <td>30778887</td>\n",
       "      <td>['32728410', '32708687', '32705178', '32143356']</td>\n",
       "      <td>4</td>\n",
       "      <td>277</td>\n",
       "    </tr>\n",
       "    <tr>\n",
       "      <th>1431</th>\n",
       "      <td>1431</td>\n",
       "      <td>['1', '#', '1', '#', '2', '1', '3', '3', '3', ...</td>\n",
       "      <td>['Beijing 100037, China,, Chengdu 610041, Chin...</td>\n",
       "      <td>Xuanyu Liu,Meng Yuan,Qinqin Xiang,Wen Chen,Zhu...</td>\n",
       "      <td>2020-09-28</td>\n",
       "      <td>https://doi.org/10.1101/2020.09.27.315911</td>\n",
       "      <td>[['Sep 2020', '248', '2', '45', ''], ['Oct 202...</td>\n",
       "      <td>Single-cell RNA-seq of the stromal vascular fr...</td>\n",
       "      <td>Cancer Biology,\\n</td>\n",
       "      <td>32420291</td>\n",
       "      <td>[]</td>\n",
       "      <td>0</td>\n",
       "      <td>408</td>\n",
       "    </tr>\n",
       "  </tbody>\n",
       "</table>\n",
       "<p>1432 rows × 13 columns</p>\n",
       "</div>"
      ],
      "text/plain": [
       "      Unnamed: 0                                   affiliation_nums  \\\n",
       "0              0  ['1', '1', '1', '1', '1', '1', '1', '1', '2', ...   \n",
       "1              1                                    ['1', '3', '2']   \n",
       "2              2      ['1', '1', '2', '3', '4', '2', '1', '5', '*']   \n",
       "3              3                ['1', '2', '3', '4', '1', '1', '*']   \n",
       "4              4                                    ['1', '2', '3']   \n",
       "...          ...                                                ...   \n",
       "1427        1427  ['1', '2', '#', '1', '#', '1', '1', '2', '3', ...   \n",
       "1428        1428  ['1', '1', '1', '1', '1', '1', '2', '3', '1', ...   \n",
       "1429        1429  ['1', '1', '1', '1', '1', '1', '2', '1', '3', ...   \n",
       "1430        1430  ['1', '#', '*', '15', '1', '2', '#', '1', '3',...   \n",
       "1431        1431  ['1', '#', '1', '#', '2', '1', '3', '3', '3', ...   \n",
       "\n",
       "                                       affiliation_text  \\\n",
       "0     ['Yale University', 'Central South University'...   \n",
       "1     ['shanghaiTech University', 'ShanghaiTech Univ...   \n",
       "2     ['Kanpur, 208016, U.P., INDIA,, Detroit, MI 48...   \n",
       "3     ['Tampa, FL, USA,, Oxford, UK,, Birmingham, AL...   \n",
       "4     ['CUNY, The Graduate Center, New York, 365 Fif...   \n",
       "...                                                 ...   \n",
       "1427  ['Atlanta, GA USA,, Atlanta, GA, USA,, Atlanta...   \n",
       "1428  ['Richmond, VA, 23298,, Richmond VA 23298,, Ri...   \n",
       "1429  ['Columbus OH,, Ann Arbor, MI, 48109,, San Ant...   \n",
       "1430  ['Marseille, France,, Paris, France,, La Tronc...   \n",
       "1431  ['Beijing 100037, China,, Chengdu 610041, Chin...   \n",
       "\n",
       "                                           author_names date_posted  \\\n",
       "0     Meiling Zhang,Zongzhi Liu,Keisuke Aoshima,Yang...  2020-10-23   \n",
       "1                                 Tian Chi,Mingming Jia  2020-10-27   \n",
       "2     Sakshi Goel,Vipul Bhatia,Shannon Carskadon,Nil...  2020-08-29   \n",
       "3     Jacob G. Scott,Anita B. Hjelmeland,Prakash Chi...  2013-11-07   \n",
       "4           Loes Olde Loohuis,Andreas Witzel,Bud Mishra  2014-01-02   \n",
       "...                                                 ...         ...   \n",
       "1427  Briana Rackley,Chang-Soo Seong,Evan Kiely,Rebe...  2020-09-25   \n",
       "1428  Christian T Fontan,Dipon Das,Molly L Bristol,C...  2020-09-26   \n",
       "1429  Safiya Khurshid,Matias Montes,Daniel F. Comisk...  2020-10-02   \n",
       "1430  Sonia Brun,Eric Raymond,Firas Bassissi,Zuzana ...  2020-10-01   \n",
       "1431  Xuanyu Liu,Meng Yuan,Qinqin Xiang,Wen Chen,Zhu...  2020-09-28   \n",
       "\n",
       "                                              doi  \\\n",
       "0      https://doi.org/10.1101/2020.09.10.291799    \n",
       "1      https://doi.org/10.1101/2020.10.26.356220    \n",
       "2      https://doi.org/10.1101/2020.08.28.271916    \n",
       "3                 https://doi.org/10.1101/000141    \n",
       "4                 https://doi.org/10.1101/001651    \n",
       "...                                           ...   \n",
       "1427   https://doi.org/10.1101/2020.09.25.308080    \n",
       "1428   https://doi.org/10.1101/2020.09.25.314484    \n",
       "1429   https://doi.org/10.1101/2020.10.02.324053    \n",
       "1430   https://doi.org/10.1101/2020.09.30.320010    \n",
       "1431   https://doi.org/10.1101/2020.09.27.315911    \n",
       "\n",
       "                                              downloads  \\\n",
       "0     [['Sep 2020', '218', '29', '45', ''], ['Oct 20...   \n",
       "1                       [['Oct 2020', '222', '37', '']]   \n",
       "2     [['Aug 2020', '552', '8', '116', ''], ['Sep 20...   \n",
       "3     [['Nov 2013', '248', '0', '27', ''], ['Dec 201...   \n",
       "4     [['Jan 2014', '171', '0', '99', ''], ['Feb 201...   \n",
       "...                                                 ...   \n",
       "1427  [['Sep 2020', '437', '19', '58', ''], ['Oct 20...   \n",
       "1428  [['Sep 2020', '363', '10', '41', ''], ['Oct 20...   \n",
       "1429              [['Oct 2020', '361', '18', '61', '']]   \n",
       "1430              [['Oct 2020', '277', '52', '71', '']]   \n",
       "1431  [['Sep 2020', '248', '2', '45', ''], ['Oct 202...   \n",
       "\n",
       "                                            paper_title       subject_area  \\\n",
       "0     CECR2 Drives Breast Cancer Metastasis by Suppr...  Cancer Biology,\\n   \n",
       "1     Sex-specific predictive values of biomarkers f...  Cancer Biology,\\n   \n",
       "2     Transcriptional network involving ERG and AR o...  Cancer Biology,\\n   \n",
       "3     Microenvironmental variables must influence in...  Cancer Biology,\\n   \n",
       "4     Power-law Null Model for Bystander Mutations i...  Cancer Biology,\\n   \n",
       "...                                                 ...                ...   \n",
       "1427  The level of oncogenic Ras controls the malign...  Cancer Biology,\\n   \n",
       "1428  Human papillomavirus 16 E2 repression of TWIST...  Cancer Biology,\\n   \n",
       "1429  Splice-switching of the insulin receptor in rh...  Cancer Biology,\\n   \n",
       "1430  GNS561, a clinical-stage PPT1 inhibitor, has p...  Cancer Biology,\\n   \n",
       "1431  Single-cell RNA-seq of the stromal vascular fr...  Cancer Biology,\\n   \n",
       "\n",
       "          pmid                                         pmid_links  \\\n",
       "0     31690671                                                 []   \n",
       "1     32154170                                       ['32449246']   \n",
       "2     30587549  ['33043165', '32896760', '32266486', '32126023...   \n",
       "3     24453958  ['30992437', '29392399', '29351275', '28669884...   \n",
       "4     26357061                                                 []   \n",
       "...        ...                                                ...   \n",
       "1427  32550498                                                 []   \n",
       "1428  31915229  ['33066318', '32938703', '32899142', '32545729...   \n",
       "1429  31662450                                                 []   \n",
       "1430  30778887   ['32728410', '32708687', '32705178', '32143356']   \n",
       "1431  32420291                                                 []   \n",
       "\n",
       "      pmid_links_num  total_downloads  \n",
       "0                  0              445  \n",
       "1                  1              222  \n",
       "2                  9              962  \n",
       "3                 18             3560  \n",
       "4                  0             1827  \n",
       "...              ...              ...  \n",
       "1427               0              558  \n",
       "1428               6              464  \n",
       "1429               0              361  \n",
       "1430               4              277  \n",
       "1431               0              408  \n",
       "\n",
       "[1432 rows x 13 columns]"
      ]
     },
     "execution_count": 2,
     "metadata": {},
     "output_type": "execute_result"
    }
   ],
   "source": [
    "df"
   ]
  },
  {
   "cell_type": "markdown",
   "metadata": {},
   "source": [
    "**Biorxiv paper citations in Pubmed**\n",
    "The number of citations received by a paper is highly skewed. Many papers have few citations, while a handful of papers have an overwhelming number of citations."
   ]
  },
  {
   "cell_type": "code",
   "execution_count": 16,
   "metadata": {},
   "outputs": [
    {
     "data": {
      "text/plain": [
       "Text(0.5, 1.0, 'Citations on Pubmed, for Biorxiv Papers')"
      ]
     },
     "execution_count": 16,
     "metadata": {},
     "output_type": "execute_result"
    },
    {
     "data": {
      "image/png": "[encoded data removed]",
      "text/plain": [
       "<Figure size 432x288 with 1 Axes>"
      ]
     },
     "metadata": {
      "needs_background": "light"
     },
     "output_type": "display_data"
    }
   ],
   "source": [
    "links=df.pmid_links_num.sort_values(ascending=False)\n",
    "sns.distplot(links)\n",
    "plt.xlabel('Number of Citations')\n",
    "plt.ylabel('Frequency')\n",
    "plt.title('Citations on Pubmed, for Biorxiv Papers')"
   ]
  },
  {
   "cell_type": "code",
   "execution_count": 71,
   "metadata": {},
   "outputs": [
    {
     "data": {
      "text/plain": [
       "Text(0.5, 1.0, 'Biorxiv Total Download Frequency')"
      ]
     },
     "execution_count": 71,
     "metadata": {},
     "output_type": "execute_result"
    },
    {
     "data": {
      "image/png": "[encoded data removed]",
      "text/plain": [
       "<Figure size 432x288 with 1 Axes>"
      ]
     },
     "metadata": {
      "needs_background": "light"
     },
     "output_type": "display_data"
    }
   ],
   "source": [
    "links=df.total_downloads.sort_values(ascending=False)\n",
    "sns.distplot(links)\n",
    "plt.xlabel('Number of Downloads')\n",
    "plt.ylabel('Frequency')\n",
    "plt.title('Biorxiv Total Download Frequency')"
   ]
  },
  {
   "cell_type": "markdown",
   "metadata": {},
   "source": [
    "**No relationship between Biorxiv Downloads and Number of Citations**"
   ]
  },
  {
   "cell_type": "code",
   "execution_count": 50,
   "metadata": {},
   "outputs": [
    {
     "data": {
      "text/plain": [
       "Text(0.5, 1.0, 'Biorxiv Downloads vs. Number of Citations')"
      ]
     },
     "execution_count": 50,
     "metadata": {},
     "output_type": "execute_result"
    },
    {
     "data": {
      "image/png": "[encoded data removed]",
      "text/plain": [
       "<Figure size 432x288 with 1 Axes>"
      ]
     },
     "metadata": {
      "needs_background": "light"
     },
     "output_type": "display_data"
    }
   ],
   "source": [
    "plt.scatter(df.total_downloads,df.pmid_links_num)\n",
    "plt.xlabel('Number of Biorxiv Downloads')\n",
    "plt.ylabel('Number of Citations')\n",
    "plt.title('Biorxiv Downloads vs. Number of Citations')"
   ]
  },
  {
   "cell_type": "markdown",
   "metadata": {},
   "source": [
    "**Top 10 Papers by Number of Citations**"
   ]
  },
  {
   "cell_type": "code",
   "execution_count": 57,
   "metadata": {},
   "outputs": [
    {
     "data": {
      "text/plain": [
       "['Mitotic progression following DNA damage enables pattern recognition within micronuclei',\n",
       " 'Mutational signatures associated with tobacco smoking in human cancer',\n",
       " 'Patient-derived xenografts undergo murine-specific tumor evolution',\n",
       " 'Spatial model predicts dispersal and cell turnover cause reduced intra-tumor heterogeneity',\n",
       " 'Classification and Mutation Prediction from Non-Small Cell Lung Cancer Histopathology Images using Deep Learning',\n",
       " ' model of inflammatory, hypoxia, and cancer stem cell signaling in pancreatic cancer using heterocellular 3-dimensional spheroids',\n",
       " 'Single-Cell RNAseq analysis of infiltrating neoplastic cells at the migrating front of human glioblastoma',\n",
       " 'Further genetic diversification in multiple tumors and an evolutionary perspective on therapeutics',\n",
       " ' mutations alter splice site recognition in hematological malignancies',\n",
       " 'The functional impact of alternative splicing in cancer']"
      ]
     },
     "execution_count": 57,
     "metadata": {},
     "output_type": "execute_result"
    }
   ],
   "source": [
    "list(df.iloc[df.pmid_links_num.sort_values(ascending=False)[:10].index].paper_title)"
   ]
  },
  {
   "cell_type": "markdown",
   "metadata": {},
   "source": [
    "**Top 10 Papers by Number of Downloads**"
   ]
  },
  {
   "cell_type": "code",
   "execution_count": 58,
   "metadata": {},
   "outputs": [
    {
     "data": {
      "text/plain": [
       "['The Repertoire of Mutational Signatures in Human Cancer',\n",
       " 'Deep learning reveals cancer metastasis and therapeutic antibody targeting in whole body',\n",
       " 'Integrating single-cell RNA-Seq with spatial transcriptomics in pancreatic ductal adenocarcinoma using multimodal intersection analysis',\n",
       " 'The evolutionary history of 2,658 cancers',\n",
       " 'Pediatric High Grade Glioma Resources From the Children’s Brain Tumor Tissue Consortium (CBTTC) and Pediatric Brain Tumor Atlas (PBTA)',\n",
       " 'The whole-genome panorama of cancer drivers',\n",
       " 'Characterizing genetic intra-tumor heterogeneity across 2,658 human cancer genomes',\n",
       " 'The UCSC Xena platform for public and private cancer genomics data visualization and interpretation',\n",
       " 'Pan-cancer whole genome analyses of metastatic solid tumors',\n",
       " 'Single cell mutational profiling delineates clonal trajectories in myeloid malignancies']"
      ]
     },
     "execution_count": 58,
     "metadata": {},
     "output_type": "execute_result"
    }
   ],
   "source": [
    "list(df.iloc[df.total_downloads.sort_values(ascending=False)[:10].index].paper_title)"
   ]
  },
  {
   "cell_type": "markdown",
   "metadata": {},
   "source": [
    "**Number of downloads or citations accumulated over time**"
   ]
  },
  {
   "cell_type": "code",
   "execution_count": 69,
   "metadata": {},
   "outputs": [
    {
     "data": {
      "text/plain": [
       "Text(0.5, 1.0, 'Number of Citations over time')"
      ]
     },
     "execution_count": 69,
     "metadata": {},
     "output_type": "execute_result"
    },
    {
     "data": {
      "image/png": "[encoded data removed]",
      "text/plain": [
       "<Figure size 432x288 with 1 Axes>"
      ]
     },
     "metadata": {
      "needs_background": "light"
     },
     "output_type": "display_data"
    }
   ],
   "source": [
    "plt.bar(df.date_posted.sort_values(),df.pmid_links_num)\n",
    "plt.xlabel('Date (Nov 2013-Oct 2020)')\n",
    "plt.ylabel('Number of Citations')\n",
    "plt.title('Number of Citations over time')"
   ]
  },
  {
   "cell_type": "code",
   "execution_count": 70,
   "metadata": {},
   "outputs": [
    {
     "data": {
      "text/plain": [
       "Text(0.5, 1.0, 'Number of Downloads over time')"
      ]
     },
     "execution_count": 70,
     "metadata": {},
     "output_type": "execute_result"
    },
    {
     "data": {
      "image/png": "[encoded data removed]",
      "text/plain": [
       "<Figure size 432x288 with 1 Axes>"
      ]
     },
     "metadata": {
      "needs_background": "light"
     },
     "output_type": "display_data"
    }
   ],
   "source": [
    "plt.bar(df.date_posted.sort_values(),df.total_downloads)\n",
    "plt.xlabel('Date (Nov 2013-Oct 2020)')\n",
    "plt.ylabel('Number of Downloads')\n",
    "plt.title('Number of Downloads over time')"
   ]
  },
  {
   "cell_type": "code",
   "execution_count": null,
   "metadata": {},
   "outputs": [],
   "source": []
  },
  {
   "cell_type": "code",
   "execution_count": null,
   "metadata": {},
   "outputs": [],
   "source": []
  }
 ],
 "metadata": {
  "kernelspec": {
   "display_name": "Python 3",
   "language": "python",
   "name": "python3"
  },
  "language_info": {
   "codemirror_mode": {
    "name": "ipython",
    "version": 3
   },
   "file_extension": ".py",
   "mimetype": "text/x-python",
   "name": "python",
   "nbconvert_exporter": "python",
   "pygments_lexer": "ipython3",
   "version": "3.7.4"
  }
 },
 "nbformat": 4,
 "nbformat_minor": 2
}
