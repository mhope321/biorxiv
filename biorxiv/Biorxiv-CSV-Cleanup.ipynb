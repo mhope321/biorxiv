{
 "cells": [
  {
   "cell_type": "code",
   "execution_count": 63,
   "metadata": {},
   "outputs": [],
   "source": [
    "import pandas as pd\n",
    "import re"
   ]
  },
  {
   "cell_type": "code",
   "execution_count": 307,
   "metadata": {},
   "outputs": [],
   "source": [
    "df = pd.read_csv(\"biorxiv.csv\")"
   ]
  },
  {
   "cell_type": "code",
   "execution_count": 133,
   "metadata": {},
   "outputs": [],
   "source": [
    "#Affiliatin_nums: Replace NAs with 1, for single affiliation.\n",
    "#Affiliation_nums: Split into list\n",
    "df.affiliation_nums = df.affiliation_nums.fillna('1')\n",
    "df.affiliation_nums = df.affiliation_nums.apply(str.split,sep=',')"
   ]
  },
  {
   "cell_type": "code",
   "execution_count": 134,
   "metadata": {},
   "outputs": [],
   "source": [
    "#Affiliation_text: Replace NAs with empty string\n",
    "#Run clean_affiliation, to \n",
    "def clean_affiliation(x):\n",
    "    x = x.split(';')\n",
    "    for i in range(len(x)):\n",
    "        x[i] = re.sub('(\\\\n)(\\\\t)+','',x[i])\n",
    "        x[i] = x[i].strip()\n",
    "        x[i] = re.sub('^,+','',x[i])\n",
    "        x[i] = x[i].strip()\n",
    "    return(x)\n",
    "df.affiliation_text = df.affiliation_text.fillna('')\n",
    "df.affiliation_text = df.affiliation_text.apply(clean_affiliation)"
   ]
  },
  {
   "cell_type": "code",
   "execution_count": 310,
   "metadata": {},
   "outputs": [
    {
     "ename": "AttributeError",
     "evalue": "'list' object has no attribute 'split'",
     "output_type": "error",
     "traceback": [
      "\u001b[0;31m---------------------------------------------------------------------------\u001b[0m",
      "\u001b[0;31mAttributeError\u001b[0m                            Traceback (most recent call last)",
      "\u001b[0;32m<ipython-input-310-04843aa213ac>\u001b[0m in \u001b[0;36m<module>\u001b[0;34m\u001b[0m\n\u001b[1;32m      9\u001b[0m     \u001b[0;32mreturn\u001b[0m \u001b[0mx\u001b[0m\u001b[0;34m\u001b[0m\u001b[0;34m\u001b[0m\u001b[0m\n\u001b[1;32m     10\u001b[0m \u001b[0mdf\u001b[0m\u001b[0;34m.\u001b[0m\u001b[0mdownloads\u001b[0m \u001b[0;34m=\u001b[0m \u001b[0mdf\u001b[0m\u001b[0;34m.\u001b[0m\u001b[0mdownloads\u001b[0m\u001b[0;34m.\u001b[0m\u001b[0mfillna\u001b[0m\u001b[0;34m(\u001b[0m\u001b[0;34m''\u001b[0m\u001b[0;34m)\u001b[0m\u001b[0;34m\u001b[0m\u001b[0;34m\u001b[0m\u001b[0m\n\u001b[0;32m---> 11\u001b[0;31m \u001b[0mdf\u001b[0m\u001b[0;34m.\u001b[0m\u001b[0mdownloads\u001b[0m \u001b[0;34m=\u001b[0m \u001b[0mdf\u001b[0m\u001b[0;34m.\u001b[0m\u001b[0mdownloads\u001b[0m\u001b[0;34m.\u001b[0m\u001b[0mapply\u001b[0m\u001b[0;34m(\u001b[0m\u001b[0mclean_downloads\u001b[0m\u001b[0;34m)\u001b[0m\u001b[0;34m\u001b[0m\u001b[0;34m\u001b[0m\u001b[0m\n\u001b[0m",
      "\u001b[0;32m~/opt/anaconda3/lib/python3.7/site-packages/pandas/core/series.py\u001b[0m in \u001b[0;36mapply\u001b[0;34m(self, func, convert_dtype, args, **kwds)\u001b[0m\n\u001b[1;32m   3846\u001b[0m             \u001b[0;32melse\u001b[0m\u001b[0;34m:\u001b[0m\u001b[0;34m\u001b[0m\u001b[0;34m\u001b[0m\u001b[0m\n\u001b[1;32m   3847\u001b[0m                 \u001b[0mvalues\u001b[0m \u001b[0;34m=\u001b[0m \u001b[0mself\u001b[0m\u001b[0;34m.\u001b[0m\u001b[0mastype\u001b[0m\u001b[0;34m(\u001b[0m\u001b[0mobject\u001b[0m\u001b[0;34m)\u001b[0m\u001b[0;34m.\u001b[0m\u001b[0mvalues\u001b[0m\u001b[0;34m\u001b[0m\u001b[0;34m\u001b[0m\u001b[0m\n\u001b[0;32m-> 3848\u001b[0;31m                 \u001b[0mmapped\u001b[0m \u001b[0;34m=\u001b[0m \u001b[0mlib\u001b[0m\u001b[0;34m.\u001b[0m\u001b[0mmap_infer\u001b[0m\u001b[0;34m(\u001b[0m\u001b[0mvalues\u001b[0m\u001b[0;34m,\u001b[0m \u001b[0mf\u001b[0m\u001b[0;34m,\u001b[0m \u001b[0mconvert\u001b[0m\u001b[0;34m=\u001b[0m\u001b[0mconvert_dtype\u001b[0m\u001b[0;34m)\u001b[0m\u001b[0;34m\u001b[0m\u001b[0;34m\u001b[0m\u001b[0m\n\u001b[0m\u001b[1;32m   3849\u001b[0m \u001b[0;34m\u001b[0m\u001b[0m\n\u001b[1;32m   3850\u001b[0m         \u001b[0;32mif\u001b[0m \u001b[0mlen\u001b[0m\u001b[0;34m(\u001b[0m\u001b[0mmapped\u001b[0m\u001b[0;34m)\u001b[0m \u001b[0;32mand\u001b[0m \u001b[0misinstance\u001b[0m\u001b[0;34m(\u001b[0m\u001b[0mmapped\u001b[0m\u001b[0;34m[\u001b[0m\u001b[0;36m0\u001b[0m\u001b[0;34m]\u001b[0m\u001b[0;34m,\u001b[0m \u001b[0mSeries\u001b[0m\u001b[0;34m)\u001b[0m\u001b[0;34m:\u001b[0m\u001b[0;34m\u001b[0m\u001b[0;34m\u001b[0m\u001b[0m\n",
      "\u001b[0;32mpandas/_libs/lib.pyx\u001b[0m in \u001b[0;36mpandas._libs.lib.map_infer\u001b[0;34m()\u001b[0m\n",
      "\u001b[0;32m<ipython-input-310-04843aa213ac>\u001b[0m in \u001b[0;36mclean_downloads\u001b[0;34m(x)\u001b[0m\n\u001b[1;32m      1\u001b[0m \u001b[0;32mdef\u001b[0m \u001b[0mclean_downloads\u001b[0m\u001b[0;34m(\u001b[0m\u001b[0mx\u001b[0m\u001b[0;34m)\u001b[0m\u001b[0;34m:\u001b[0m\u001b[0;34m\u001b[0m\u001b[0;34m\u001b[0m\u001b[0m\n\u001b[0;32m----> 2\u001b[0;31m     \u001b[0mx\u001b[0m \u001b[0;34m=\u001b[0m \u001b[0mx\u001b[0m\u001b[0;34m.\u001b[0m\u001b[0msplit\u001b[0m\u001b[0;34m(\u001b[0m\u001b[0;34m','\u001b[0m\u001b[0;34m)\u001b[0m\u001b[0;34m\u001b[0m\u001b[0;34m\u001b[0m\u001b[0m\n\u001b[0m\u001b[1;32m      3\u001b[0m     \u001b[0mx\u001b[0m \u001b[0;34m=\u001b[0m \u001b[0mmap\u001b[0m\u001b[0;34m(\u001b[0m\u001b[0;32mlambda\u001b[0m \u001b[0my\u001b[0m\u001b[0;34m:\u001b[0m \u001b[0mre\u001b[0m\u001b[0;34m.\u001b[0m\u001b[0msub\u001b[0m\u001b[0;34m(\u001b[0m\u001b[0;34m'<tr class=\"odd\">'\u001b[0m\u001b[0;34m,\u001b[0m\u001b[0;34m''\u001b[0m\u001b[0;34m,\u001b[0m\u001b[0my\u001b[0m\u001b[0;34m)\u001b[0m\u001b[0;34m,\u001b[0m\u001b[0mx\u001b[0m\u001b[0;34m)\u001b[0m\u001b[0;34m\u001b[0m\u001b[0;34m\u001b[0m\u001b[0m\n\u001b[1;32m      4\u001b[0m     \u001b[0mx\u001b[0m \u001b[0;34m=\u001b[0m \u001b[0mmap\u001b[0m\u001b[0;34m(\u001b[0m\u001b[0;32mlambda\u001b[0m \u001b[0my\u001b[0m\u001b[0;34m:\u001b[0m \u001b[0mre\u001b[0m\u001b[0;34m.\u001b[0m\u001b[0msub\u001b[0m\u001b[0;34m(\u001b[0m\u001b[0;34m'<tr class=\"even\">'\u001b[0m\u001b[0;34m,\u001b[0m\u001b[0;34m''\u001b[0m\u001b[0;34m,\u001b[0m\u001b[0my\u001b[0m\u001b[0;34m)\u001b[0m\u001b[0;34m,\u001b[0m\u001b[0mx\u001b[0m\u001b[0;34m)\u001b[0m\u001b[0;34m\u001b[0m\u001b[0;34m\u001b[0m\u001b[0m\n\u001b[1;32m      5\u001b[0m     \u001b[0mx\u001b[0m \u001b[0;34m=\u001b[0m \u001b[0mmap\u001b[0m\u001b[0;34m(\u001b[0m\u001b[0;32mlambda\u001b[0m \u001b[0my\u001b[0m\u001b[0;34m:\u001b[0m \u001b[0mre\u001b[0m\u001b[0;34m.\u001b[0m\u001b[0msub\u001b[0m\u001b[0;34m(\u001b[0m\u001b[0;34m' </tr>'\u001b[0m\u001b[0;34m,\u001b[0m\u001b[0;34m''\u001b[0m\u001b[0;34m,\u001b[0m\u001b[0my\u001b[0m\u001b[0;34m)\u001b[0m\u001b[0;34m,\u001b[0m\u001b[0mx\u001b[0m\u001b[0;34m)\u001b[0m\u001b[0;34m\u001b[0m\u001b[0;34m\u001b[0m\u001b[0m\n",
      "\u001b[0;31mAttributeError\u001b[0m: 'list' object has no attribute 'split'"
     ]
    }
   ],
   "source": [
    "def clean_downloads(x):\n",
    "    x = x.split(',')\n",
    "    x = map(lambda y: re.sub('<tr class=\"odd\">','',y),x)\n",
    "    x = map(lambda y: re.sub('<tr class=\"even\">','',y),x)\n",
    "    x = map(lambda y: re.sub(' </tr>','',y),x)\n",
    "    x = list(map(lambda y: y.split('</td>'),x))\n",
    "    for i in range(len(x)):\n",
    "        x[i] = list(map(lambda y: re.sub('^<td>','',y),x[i]))\n",
    "    return x\n",
    "df.downloads = df.downloads.fillna('')\n",
    "df.downloads = df.downloads.apply(clean_downloads)"
   ]
  },
  {
   "cell_type": "code",
   "execution_count": 309,
   "metadata": {},
   "outputs": [
    {
     "ename": "TypeError",
     "evalue": "unhashable type: 'list'",
     "output_type": "error",
     "traceback": [
      "\u001b[0;31m---------------------------------------------------------------------------\u001b[0m",
      "\u001b[0;31mTypeError\u001b[0m                                 Traceback (most recent call last)",
      "\u001b[0;32mpandas/_libs/hashtable_class_helper.pxi\u001b[0m in \u001b[0;36mpandas._libs.hashtable.PyObjectHashTable.map_locations\u001b[0;34m()\u001b[0m\n",
      "\u001b[0;31mTypeError\u001b[0m: unhashable type: 'list'"
     ]
    },
    {
     "name": "stderr",
     "output_type": "stream",
     "text": [
      "Exception ignored in: 'pandas._libs.index.IndexEngine._call_map_locations'\n",
      "Traceback (most recent call last):\n",
      "  File \"pandas/_libs/hashtable_class_helper.pxi\", line 1653, in pandas._libs.hashtable.PyObjectHashTable.map_locations\n",
      "TypeError: unhashable type: 'list'\n"
     ]
    },
    {
     "data": {
      "text/plain": [
       "[None]                                                                                                                                                                                                                                                                                                                                                                                                                                                                                                                                                                                                                            21\n",
       "[None, None, None, None, None, None, None, None, None, None, None, None, None, None, None, None, None, None, None, None, None]                                                                                                                                                                                                                                                                                                                                                                                                                                                                                                     8\n",
       "[None, None, None, None, None, None, None, None, None, None]                                                                                                                                                                                                                                                                                                                                                                                                                                                                                                                                                                       2\n",
       "[None, None, None, None, None, None, None, None, None, None, None, None]                                                                                                                                                                                                                                                                                                                                                                                                                                                                                                                                                           2\n",
       "[None, None, None, None, None, None, None, None, None]                                                                                                                                                                                                                                                                                                                                                                                                                                                                                                                                                                             2\n",
       "                                                                                                                                                                                                                                                                                                                                                                                                                                                                                                                                                                                                                                  ..\n",
       "[[Jan 2019, 554, 0, 171], [Feb 2019, 1780, 0, 999], [Mar 2019, 371, 0, 184], [Apr 2019, 173, 0, 129], [May 2019, 118, 0, 65], [Jun 2019, 122, 0, 37], [Jul 2019, 101, 0, 40], [Aug 2019, 68, 0, 35], [Sep 2019, 81, 0, 35], [Oct 2019, 165, 0, 45], [Nov 2019, 114, 0, 46], [Dec 2019, 77, 2, 27], [Jan 2020, 75, 10, 44], [Feb 2020, 125, 30, 32], [Mar 2020, 89, 17, 17], [Apr 2020, 51, 5, 22], [May 2020, 62, 7, 20], [Jun 2020, 61, 3, 30], [Jul 2020, 65, 5, 18], [Aug 2020, 58, 2, 20], [Sep 2020, 78, 4, 16], [Oct 2020, 101, 4, 18]]                                                                                      1\n",
       "[[Jan 2020, 1859, 43, 531], [Feb 2020, 343, 62, 133], [Mar 2020, 235, 51, 85], [Apr 2020, 225, 56, 132], [May 2020, 270, 60, 122], [Jun 2020, 433, 59, 176], [Jul 2020, 270, 54, 165], [Aug 2020, 218, 69, 168], [Sep 2020, 296, 107, 201], [Oct 2020, 186, 97, 165]]                                                                                                                                                                                                                                                                                                                                                              1\n",
       "[[Sep 2018, 482, 0, 71], [Oct 2018, 176, 0, 53], [Nov 2018, 95, 0, 33], [Dec 2018, 42, 0, 42], [Jan 2019, 54, 0, 35], [Feb 2019, 72, 0, 18], [Mar 2019, 29, 0, 21], [Apr 2019, 32, 1, 22], [May 2019, 32, 0, 16], [Jun 2019, 33, 4, 23], [Jul 2019, 34, 5, 22], [Aug 2019, 48, 33, 16], [Sep 2019, 30, 21, 22], [Oct 2019, 31, 38, 26], [Nov 2019, 40, 34, 13], [Dec 2019, 21, 16, 30], [Jan 2020, 43, 25, 11], [Feb 2020, 55, 28, 11], [Mar 2020, 33, 28, 8], [Apr 2020, 13, 12, 11], [May 2020, 23, 15, 8], [Jun 2020, 21, 9, 6], [Jul 2020, 8, 12, 9], [Aug 2020, 22, 21, 7], [Sep 2020, 34, 9, 9], [Oct 2020, 36, 14, 12]]     1\n",
       "[[Jul 2019, 341, 4, 69], [Aug 2019, 41, 17, 9], [Sep 2019, 47, 8, 22], [Oct 2019, 38, 8, 20], [Nov 2019, 44, 16, 17], [Dec 2019, 50, 21, 12], [Jan 2020, 63, 14, 24], [Feb 2020, 55, 15, 9], [Mar 2020, 30, 4, 11], [Apr 2020, 22, 7, 17], [May 2020, 24, 4, 12], [Jun 2020, 38, 2, 9], [Jul 2020, 19, 0, 2], [Aug 2020, 20, 1, 4], [Sep 2020, 18, 0, 7], [Oct 2020, 17, 1, 3]]                                                                                                                                                                                                                                                    1\n",
       "[[Sep 2020, 5030, 30, 39], [Oct 2020, 47, 6, 22]]                                                                                                                                                                                                                                                                                                                                                                                                                                                                                                                                                                                  1\n",
       "Name: downloads, Length: 3609, dtype: int64"
      ]
     },
     "execution_count": 309,
     "metadata": {},
     "output_type": "execute_result"
    }
   ],
   "source": [
    "df.downloads.value_counts()"
   ]
  },
  {
   "cell_type": "code",
   "execution_count": 275,
   "metadata": {},
   "outputs": [],
   "source": [
    "def clean_downloads(x):\n",
    "    x = x.split(',')\n",
    "    x = map(lambda y: re.sub('<tr class=\"odd\">','',y),x)\n",
    "    x = map(lambda y: re.sub('<tr class=\"even\">','',y),x)\n",
    "    x = map(lambda y: re.sub(' </tr>','',y),x)\n",
    "    x = list(map(lambda y: y.split('</td>'),x))\n",
    "    for i in range(len(x)):\n",
    "        x[i] = list(map(lambda y: re.sub('^<td>','',y),x[i]))\n",
    "    for i in range(len(x)):\n",
    "        del x[i][4]\n",
    "    return x"
   ]
  },
  {
   "cell_type": "code",
   "execution_count": 302,
   "metadata": {},
   "outputs": [],
   "source": [
    "test4=df.downloads.values\n",
    "for i in range(len(test4)):\n",
    "    for j in range(len(test4[i])):\n",
    "        for k in range(len(test4[i][j])):\n",
    "            if test4[i][j][k] == \"problem\":\n",
    "                  print(test4[i][j])\n"
   ]
  },
  {
   "cell_type": "code",
   "execution_count": 210,
   "metadata": {},
   "outputs": [],
   "source": [
    "test = df.downloads.tail(100)"
   ]
  },
  {
   "cell_type": "code",
   "execution_count": 303,
   "metadata": {},
   "outputs": [
    {
     "data": {
      "text/plain": [
       "array([list([['Oct 2020', '500', '27', '170']]),\n",
       "       list([['Oct 2020', '343', '38', '63']]),\n",
       "       list([['Oct 2020', '280', '28', '68']]), ...,\n",
       "       list([['Sep 2020', '372', '2', '38'], ['Oct 2020', '157', '28', '20']]),\n",
       "       list([['Sep 2020', '248', '2', '45'], ['Oct 2020', '160', '60', '47']]),\n",
       "       list([['Sep 2020', '223', '2', '31'], ['Oct 2020', '165', '39', '45']])],\n",
       "      dtype=object)"
      ]
     },
     "execution_count": 303,
     "metadata": {},
     "output_type": "execute_result"
    }
   ],
   "source": [
    "test4"
   ]
  },
  {
   "cell_type": "code",
   "execution_count": 231,
   "metadata": {},
   "outputs": [
    {
     "data": {
      "text/plain": [
       "[['Sep 2020', '223', '2', '31', ' </'],\n",
       " ['d>Oct 2020', '165', '39', '45', ' </']]"
      ]
     },
     "execution_count": 231,
     "metadata": {},
     "output_type": "execute_result"
    }
   ],
   "source": [
    "clean_downloads(test[3638])"
   ]
  },
  {
   "cell_type": "code",
   "execution_count": 155,
   "metadata": {},
   "outputs": [],
   "source": [
    "result = {}\n",
    "for i in range(len(test)):\n",
    "    for j in range(len(test[i]))\n",
    "        result.update(test[i])\n"
   ]
  },
  {
   "cell_type": "code",
   "execution_count": 166,
   "metadata": {},
   "outputs": [],
   "source": [
    "result ={}\n",
    "for i in range(len(test)):\n",
    "    for key in test[i]:\n",
    "        if key in result.keys():\n",
    "            result[key] += 1\n",
    "        else:\n",
    "            result[key]=1\n"
   ]
  },
  {
   "cell_type": "code",
   "execution_count": 175,
   "metadata": {},
   "outputs": [
    {
     "data": {
      "text/plain": [
       "'<tr class=\"odd\"><td>Oct 2020</td><td>280</td><td>28</td><td>68</td> </tr>'"
      ]
     },
     "execution_count": 175,
     "metadata": {},
     "output_type": "execute_result"
    }
   ],
   "source": [
    "df.downloads.head()[2]"
   ]
  },
  {
   "cell_type": "code",
   "execution_count": 26,
   "metadata": {},
   "outputs": [],
   "source": [
    "affs_type=df.affiliation_nums.apply(type)"
   ]
  },
  {
   "cell_type": "code",
   "execution_count": 36,
   "metadata": {},
   "outputs": [
    {
     "data": {
      "text/plain": [
       "22      <class 'float'>\n",
       "171     <class 'float'>\n",
       "180     <class 'float'>\n",
       "197     <class 'float'>\n",
       "202     <class 'float'>\n",
       "             ...       \n",
       "1394    <class 'float'>\n",
       "1408    <class 'float'>\n",
       "1430    <class 'float'>\n",
       "1438    <class 'float'>\n",
       "1817    <class 'float'>\n",
       "Name: affiliation_nums, Length: 75, dtype: object"
      ]
     },
     "execution_count": 36,
     "metadata": {},
     "output_type": "execute_result"
    }
   ],
   "source": [
    "affs_type[affs_type==float]"
   ]
  },
  {
   "cell_type": "code",
   "execution_count": 94,
   "metadata": {},
   "outputs": [
    {
     "data": {
      "text/plain": [
       "'\\n\\t\\t\\t\\t, H. Lee Moffitt Cancer Center & Research Institute, Tampa, Florida;\\n\\t\\t\\t,\\n\\t\\t\\t\\t, H. Lee Moffitt Cancer Center & Research Institute;\\n\\t\\t\\t,\\n\\t\\t\\t\\t, Air Force Academy\\n\\t\\t\\t'"
      ]
     },
     "execution_count": 94,
     "metadata": {},
     "output_type": "execute_result"
    }
   ],
   "source": [
    "test = df.affiliation_text[2]\n",
    "test"
   ]
  },
  {
   "cell_type": "code",
   "execution_count": 95,
   "metadata": {},
   "outputs": [],
   "source": [
    "test = test.split(';')"
   ]
  },
  {
   "cell_type": "code",
   "execution_count": 103,
   "metadata": {},
   "outputs": [
    {
     "data": {
      "text/plain": [
       "', H. Lee Moffitt Cancer Center & Research Institute, Tampa, Florida'"
      ]
     },
     "execution_count": 103,
     "metadata": {},
     "output_type": "execute_result"
    }
   ],
   "source": [
    "re.sub('(\\\\n)(\\\\t)+','',test[0])"
   ]
  },
  {
   "cell_type": "code",
   "execution_count": 104,
   "metadata": {},
   "outputs": [],
   "source": [
    "def clean_affiliation(x):\n",
    "    x = x.split(';')\n",
    "    for i in range(len(x)):\n",
    "        x[i] = re.sub('(\\\\n)(\\\\t)+','',x[i])\n",
    "    return(x)"
   ]
  },
  {
   "cell_type": "code",
   "execution_count": 108,
   "metadata": {},
   "outputs": [],
   "source": [
    "test = df.affiliation_text.head()\n",
    "test = test.apply(clean_affiliation)\n",
    "test[0]"
   ]
  },
  {
   "cell_type": "code",
   "execution_count": 93,
   "metadata": {},
   "outputs": [],
   "source": [
    "re.match(',',test[2].strip()).lastindex"
   ]
  },
  {
   "cell_type": "code",
   "execution_count": 113,
   "metadata": {},
   "outputs": [
    {
     "data": {
      "text/plain": [
       "[', University of Cambridge',\n",
       " ',, Cancer Evolution and Genome Instability Laboratory, Francis Crick Institute, London, UK',\n",
       " ',, Cambridge University Hospitals',\n",
       " ',, Astrazeneca',\n",
       " ',, The Francis Crick Institute',\n",
       " ',, University College of London',\n",
       " ',, Francis Crick Institute',\n",
       " ',, BC Cancer Agency',\n",
       " ',, Imperial College of London']"
      ]
     },
     "execution_count": 113,
     "metadata": {},
     "output_type": "execute_result"
    }
   ],
   "source": [
    "test[3]"
   ]
  },
  {
   "cell_type": "code",
   "execution_count": 116,
   "metadata": {},
   "outputs": [
    {
     "data": {
      "text/plain": [
       "0       \\n\\t\\t\\t\\t, University of Southern California\\...\n",
       "1       , Glasgow G61 1QH, United Kingdom,, Glasgow G6...\n",
       "2       \\n\\t\\t\\t\\t, H. Lee Moffitt Cancer Center & Res...\n",
       "3       \\n\\t\\t\\t\\t, University of Cambridge;\\n\\t\\t\\t,\\...\n",
       "4       \\n\\t\\t\\t\\t, Helen Diller Comprehensive Cancer ...\n",
       "                              ...                        \n",
       "3634    , Tucson, Arizona,, Tucson, Arizona,, Tucson, ...\n",
       "3635                                                  NaN\n",
       "3636    , Houston TX,, Houston TX,, Houston TX,, Houst...\n",
       "3637    , Beijing 100037, China,, Chengdu 610041, Chin...\n",
       "3638    , Auckland, New Zealand, Auckland, New Zealand...\n",
       "Name: affiliation_text, Length: 3639, dtype: object"
      ]
     },
     "execution_count": 116,
     "metadata": {},
     "output_type": "execute_result"
    }
   ],
   "source": [
    "df.affiliation_text"
   ]
  },
  {
   "cell_type": "code",
   "execution_count": null,
   "metadata": {},
   "outputs": [],
   "source": []
  }
 ],
 "metadata": {
  "kernelspec": {
   "display_name": "Python 3",
   "language": "python",
   "name": "python3"
  },
  "language_info": {
   "codemirror_mode": {
    "name": "ipython",
    "version": 3
   },
   "file_extension": ".py",
   "mimetype": "text/x-python",
   "name": "python",
   "nbconvert_exporter": "python",
   "pygments_lexer": "ipython3",
   "version": "3.7.4"
  }
 },
 "nbformat": 4,
 "nbformat_minor": 2
}
