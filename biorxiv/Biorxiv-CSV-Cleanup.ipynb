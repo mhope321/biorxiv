{
 "cells": [
  {
   "cell_type": "code",
   "execution_count": 63,
   "metadata": {},
   "outputs": [],
   "source": [
    "import pandas as pd\n",
    "import re"
   ]
  },
  {
   "cell_type": "code",
   "execution_count": 122,
   "metadata": {},
   "outputs": [],
   "source": [
    "df = pd.read_csv(\"biorxiv.csv\")"
   ]
  },
  {
   "cell_type": "code",
   "execution_count": 123,
   "metadata": {},
   "outputs": [],
   "source": [
    "#Affiliatin_nums: Replace NAs with 1, for single affiliation.\n",
    "#Affiliation_nums: Split into list\n",
    "df.affiliation_nums = df.affiliation_nums.fillna('1')\n",
    "df.affiliation_nums = df.affiliation_nums.apply(str.split,sep=',')"
   ]
  },
  {
   "cell_type": "code",
   "execution_count": 124,
   "metadata": {},
   "outputs": [],
   "source": [
    "def clean_affiliation(x):\n",
    "    x = x.split(';')\n",
    "    for i in range(len(x)):\n",
    "        x[i] = re.sub('(\\\\n)(\\\\t)+','',x[i])\n",
    "    return(x)\n",
    "df.affiliation_text = df.affiliation_text.fillna('')\n",
    "df.affiliation_text = df.affiliation_text.apply(clean_affiliation)"
   ]
  },
  {
   "cell_type": "code",
   "execution_count": 120,
   "metadata": {},
   "outputs": [
    {
     "data": {
      "text/html": [
       "<div>\n",
       "<style scoped>\n",
       "    .dataframe tbody tr th:only-of-type {\n",
       "        vertical-align: middle;\n",
       "    }\n",
       "\n",
       "    .dataframe tbody tr th {\n",
       "        vertical-align: top;\n",
       "    }\n",
       "\n",
       "    .dataframe thead th {\n",
       "        text-align: right;\n",
       "    }\n",
       "</style>\n",
       "<table border=\"1\" class=\"dataframe\">\n",
       "  <thead>\n",
       "    <tr style=\"text-align: right;\">\n",
       "      <th></th>\n",
       "      <th>affiliation_nums</th>\n",
       "      <th>affiliation_text</th>\n",
       "      <th>author_names</th>\n",
       "      <th>date_posted</th>\n",
       "      <th>doi</th>\n",
       "      <th>downloads</th>\n",
       "      <th>paper_title</th>\n",
       "      <th>subject_area</th>\n",
       "    </tr>\n",
       "  </thead>\n",
       "  <tbody>\n",
       "    <tr>\n",
       "      <th>0</th>\n",
       "      <td>[1]</td>\n",
       "      <td>[, University of Southern California]</td>\n",
       "      <td>James H Joly,Brandon TL Chew,Nicholas Alexande...</td>\n",
       "      <td>\\n    Posted October 07, 2020.</td>\n",
       "      <td>https://doi.org/10.1101/2020.10.05.327429</td>\n",
       "      <td>&lt;tr class=\"odd\"&gt;&lt;td&gt;Oct 2020&lt;/td&gt;&lt;td&gt;500&lt;/td&gt;&lt;...</td>\n",
       "      <td>The landscape of metabolic pathway dependencie...</td>\n",
       "      <td>Cancer Biology,\\n</td>\n",
       "    </tr>\n",
       "    <tr>\n",
       "      <th>1</th>\n",
       "      <td>[1, 3, 4, 1, 2, 3, 2, 3, 2, 3, 2, 2, 3, 2, 3, ...</td>\n",
       "      <td>[, Glasgow G61 1QH, United Kingdom,, Glasgow G...</td>\n",
       "      <td>Mate Naszai,Yachuan Yu,Alvaro R Fernandez,Emma...</td>\n",
       "      <td>\\n    Posted October 08, 2020.</td>\n",
       "      <td>https://doi.org/10.1101/2020.10.07.329607</td>\n",
       "      <td>&lt;tr class=\"odd\"&gt;&lt;td&gt;Oct 2020&lt;/td&gt;&lt;td&gt;343&lt;/td&gt;&lt;...</td>\n",
       "      <td>RAL GTPases mediate EGFR/MAPK signalling-drive...</td>\n",
       "      <td>Cancer Biology,\\n</td>\n",
       "    </tr>\n",
       "    <tr>\n",
       "      <th>2</th>\n",
       "      <td>[1, 4, 2, 3, 3, 2, 2]</td>\n",
       "      <td>[, H. Lee Moffitt Cancer Center &amp; Research Ins...</td>\n",
       "      <td>Jeffrey West,Maximilian Strobl,Cole Armagost,R...</td>\n",
       "      <td>\\n    Posted October 09, 2020.</td>\n",
       "      <td>https://doi.org/10.1101/2020.10.08.331678</td>\n",
       "      <td>&lt;tr class=\"odd\"&gt;&lt;td&gt;Oct 2020&lt;/td&gt;&lt;td&gt;280&lt;/td&gt;&lt;...</td>\n",
       "      <td>Antifragile therapy</td>\n",
       "      <td>Cancer Biology,\\n</td>\n",
       "    </tr>\n",
       "    <tr>\n",
       "      <th>3</th>\n",
       "      <td>[1, 10, 1, 1, 1, 1, 2, 1, 1, 1, 3, 3, 4, 4, 4,...</td>\n",
       "      <td>[, University of Cambridge, ,, Cancer Evolutio...</td>\n",
       "      <td>Filipe Correia Martins,Dominique-Laurent Coutu...</td>\n",
       "      <td>\\n    Posted October 12, 2020.</td>\n",
       "      <td>https://doi.org/10.1101/2020.10.04.325365</td>\n",
       "      <td>&lt;tr class=\"odd\"&gt;&lt;td&gt;Oct 2020&lt;/td&gt;&lt;td&gt;768&lt;/td&gt;&lt;...</td>\n",
       "      <td>Somatic chromosomal number alterations affecti...</td>\n",
       "      <td>Cancer Biology,\\n</td>\n",
       "    </tr>\n",
       "    <tr>\n",
       "      <th>4</th>\n",
       "      <td>[1, 2, 3, 1, 4, 5, 4, 6, 7, 1, 9, 8]</td>\n",
       "      <td>[, Helen Diller Comprehensive Cancer Center, U...</td>\n",
       "      <td>Andrew L Wolfe,Qingwen Zhou,Eneda Toska,Jacque...</td>\n",
       "      <td>\\n    Posted October 13, 2020.</td>\n",
       "      <td>https://doi.org/10.1101/2020.10.13.337998</td>\n",
       "      <td>&lt;tr class=\"odd\"&gt;&lt;td&gt;Oct 2020&lt;/td&gt;&lt;td&gt;353&lt;/td&gt;&lt;...</td>\n",
       "      <td>UDP-glucose pyrophosphorylase 2, a regulator o...</td>\n",
       "      <td>Cancer Biology,\\n</td>\n",
       "    </tr>\n",
       "    <tr>\n",
       "      <th>...</th>\n",
       "      <td>...</td>\n",
       "      <td>...</td>\n",
       "      <td>...</td>\n",
       "      <td>...</td>\n",
       "      <td>...</td>\n",
       "      <td>...</td>\n",
       "      <td>...</td>\n",
       "      <td>...</td>\n",
       "    </tr>\n",
       "    <tr>\n",
       "      <th>3634</th>\n",
       "      <td>[1, +, #, 1, 2, 3, 4, 2, 5, 1, *]</td>\n",
       "      <td>[, Tucson, Arizona,, Tucson, Arizona,, Tucson,...</td>\n",
       "      <td>Brenna A. Rheinheimer,Ronald L. Heimark,Adam D...</td>\n",
       "      <td>\\n    Posted September 30, 2020.</td>\n",
       "      <td>https://doi.org/10.1101/2020.09.29.318873</td>\n",
       "      <td>&lt;tr class=\"odd\"&gt;&lt;td&gt;Sep 2020&lt;/td&gt;&lt;td&gt;194&lt;/td&gt;&lt;...</td>\n",
       "      <td>Cell intrinsic signaling in , mutant pancreati...</td>\n",
       "      <td>Cancer Biology,\\n</td>\n",
       "    </tr>\n",
       "    <tr>\n",
       "      <th>3635</th>\n",
       "      <td>[1, 2, 1, 1, 1, 3, 4, 1, 1, 1, 1, 1, *, 5, 6, ...</td>\n",
       "      <td>[]</td>\n",
       "      <td>Lei Huang,Xiao-Ou Zhang,Odette Verdejo-Torres,...</td>\n",
       "      <td>\\n    Posted September 30, 2020.</td>\n",
       "      <td>https://doi.org/10.1101/2020.08.12.246660</td>\n",
       "      <td>&lt;tr class=\"odd\"&gt;&lt;td&gt;Aug 2020&lt;/td&gt;&lt;td&gt;703&lt;/td&gt;&lt;...</td>\n",
       "      <td>Protein arginine methyltransferase 5 promotes ...</td>\n",
       "      <td>Cancer Biology,\\n</td>\n",
       "    </tr>\n",
       "    <tr>\n",
       "      <th>3636</th>\n",
       "      <td>[1, 5, 2, 5, 2, 5, 2, 1, 5, 3, 1, 4, 1, 5, *]</td>\n",
       "      <td>[, Houston TX,, Houston TX,, Houston TX,, Hous...</td>\n",
       "      <td>Emilly S Villodre,Yun Gong,Lei Huo,Esther C Yo...</td>\n",
       "      <td>\\n    Posted September 28, 2020.</td>\n",
       "      <td>https://doi.org/10.1101/2020.09.25.313817</td>\n",
       "      <td>&lt;tr class=\"odd\"&gt;&lt;td&gt;Sep 2020&lt;/td&gt;&lt;td&gt;372&lt;/td&gt;&lt;...</td>\n",
       "      <td>NDRG1 expression is an independent prognostic ...</td>\n",
       "      <td>Cancer Biology,\\n</td>\n",
       "    </tr>\n",
       "    <tr>\n",
       "      <th>3637</th>\n",
       "      <td>[1, #, 1, #, 2, 1, 3, 3, 3, 3, 3, *, 1, *]</td>\n",
       "      <td>[, Beijing 100037, China,, Chengdu 610041, Chi...</td>\n",
       "      <td>Xuanyu Liu,Meng Yuan,Qinqin Xiang,Wen Chen,Zhu...</td>\n",
       "      <td>\\n    Posted September 28, 2020.</td>\n",
       "      <td>https://doi.org/10.1101/2020.09.27.315911</td>\n",
       "      <td>&lt;tr class=\"odd\"&gt;&lt;td&gt;Sep 2020&lt;/td&gt;&lt;td&gt;248&lt;/td&gt;&lt;...</td>\n",
       "      <td>Single-cell RNA-seq of the stromal vascular fr...</td>\n",
       "      <td>Cancer Biology,\\n</td>\n",
       "    </tr>\n",
       "    <tr>\n",
       "      <th>3638</th>\n",
       "      <td>[1, 2, 3, 1, 1, 2, 3, 4, *]</td>\n",
       "      <td>[, Auckland, New Zealand, Auckland, New Zealan...</td>\n",
       "      <td>Colin L. Hisey,Petr Tomek,Yohanes N.S. Nursali...</td>\n",
       "      <td>\\n    Posted September 28, 2020.</td>\n",
       "      <td>https://doi.org/10.1101/2020.09.27.309252</td>\n",
       "      <td>&lt;tr class=\"odd\"&gt;&lt;td&gt;Sep 2020&lt;/td&gt;&lt;td&gt;223&lt;/td&gt;&lt;...</td>\n",
       "      <td>Towards establishing Extracellular Vesicle-ass...</td>\n",
       "      <td>Cancer Biology,\\n</td>\n",
       "    </tr>\n",
       "  </tbody>\n",
       "</table>\n",
       "<p>3639 rows × 8 columns</p>\n",
       "</div>"
      ],
      "text/plain": [
       "                                       affiliation_nums  \\\n",
       "0                                                   [1]   \n",
       "1     [1, 3, 4, 1, 2, 3, 2, 3, 2, 3, 2, 2, 3, 2, 3, ...   \n",
       "2                                 [1, 4, 2, 3, 3, 2, 2]   \n",
       "3     [1, 10, 1, 1, 1, 1, 2, 1, 1, 1, 3, 3, 4, 4, 4,...   \n",
       "4                  [1, 2, 3, 1, 4, 5, 4, 6, 7, 1, 9, 8]   \n",
       "...                                                 ...   \n",
       "3634                  [1, +, #, 1, 2, 3, 4, 2, 5, 1, *]   \n",
       "3635  [1, 2, 1, 1, 1, 3, 4, 1, 1, 1, 1, 1, *, 5, 6, ...   \n",
       "3636      [1, 5, 2, 5, 2, 5, 2, 1, 5, 3, 1, 4, 1, 5, *]   \n",
       "3637         [1, #, 1, #, 2, 1, 3, 3, 3, 3, 3, *, 1, *]   \n",
       "3638                        [1, 2, 3, 1, 1, 2, 3, 4, *]   \n",
       "\n",
       "                                       affiliation_text  \\\n",
       "0                 [, University of Southern California]   \n",
       "1     [, Glasgow G61 1QH, United Kingdom,, Glasgow G...   \n",
       "2     [, H. Lee Moffitt Cancer Center & Research Ins...   \n",
       "3     [, University of Cambridge, ,, Cancer Evolutio...   \n",
       "4     [, Helen Diller Comprehensive Cancer Center, U...   \n",
       "...                                                 ...   \n",
       "3634  [, Tucson, Arizona,, Tucson, Arizona,, Tucson,...   \n",
       "3635                                                 []   \n",
       "3636  [, Houston TX,, Houston TX,, Houston TX,, Hous...   \n",
       "3637  [, Beijing 100037, China,, Chengdu 610041, Chi...   \n",
       "3638  [, Auckland, New Zealand, Auckland, New Zealan...   \n",
       "\n",
       "                                           author_names  \\\n",
       "0     James H Joly,Brandon TL Chew,Nicholas Alexande...   \n",
       "1     Mate Naszai,Yachuan Yu,Alvaro R Fernandez,Emma...   \n",
       "2     Jeffrey West,Maximilian Strobl,Cole Armagost,R...   \n",
       "3     Filipe Correia Martins,Dominique-Laurent Coutu...   \n",
       "4     Andrew L Wolfe,Qingwen Zhou,Eneda Toska,Jacque...   \n",
       "...                                                 ...   \n",
       "3634  Brenna A. Rheinheimer,Ronald L. Heimark,Adam D...   \n",
       "3635  Lei Huang,Xiao-Ou Zhang,Odette Verdejo-Torres,...   \n",
       "3636  Emilly S Villodre,Yun Gong,Lei Huo,Esther C Yo...   \n",
       "3637  Xuanyu Liu,Meng Yuan,Qinqin Xiang,Wen Chen,Zhu...   \n",
       "3638  Colin L. Hisey,Petr Tomek,Yohanes N.S. Nursali...   \n",
       "\n",
       "                             date_posted  \\\n",
       "0       \\n    Posted October 07, 2020.     \n",
       "1       \\n    Posted October 08, 2020.     \n",
       "2       \\n    Posted October 09, 2020.     \n",
       "3       \\n    Posted October 12, 2020.     \n",
       "4       \\n    Posted October 13, 2020.     \n",
       "...                                  ...   \n",
       "3634  \\n    Posted September 30, 2020.     \n",
       "3635  \\n    Posted September 30, 2020.     \n",
       "3636  \\n    Posted September 28, 2020.     \n",
       "3637  \\n    Posted September 28, 2020.     \n",
       "3638  \\n    Posted September 28, 2020.     \n",
       "\n",
       "                                              doi  \\\n",
       "0      https://doi.org/10.1101/2020.10.05.327429    \n",
       "1      https://doi.org/10.1101/2020.10.07.329607    \n",
       "2      https://doi.org/10.1101/2020.10.08.331678    \n",
       "3      https://doi.org/10.1101/2020.10.04.325365    \n",
       "4      https://doi.org/10.1101/2020.10.13.337998    \n",
       "...                                           ...   \n",
       "3634   https://doi.org/10.1101/2020.09.29.318873    \n",
       "3635   https://doi.org/10.1101/2020.08.12.246660    \n",
       "3636   https://doi.org/10.1101/2020.09.25.313817    \n",
       "3637   https://doi.org/10.1101/2020.09.27.315911    \n",
       "3638   https://doi.org/10.1101/2020.09.27.309252    \n",
       "\n",
       "                                              downloads  \\\n",
       "0     <tr class=\"odd\"><td>Oct 2020</td><td>500</td><...   \n",
       "1     <tr class=\"odd\"><td>Oct 2020</td><td>343</td><...   \n",
       "2     <tr class=\"odd\"><td>Oct 2020</td><td>280</td><...   \n",
       "3     <tr class=\"odd\"><td>Oct 2020</td><td>768</td><...   \n",
       "4     <tr class=\"odd\"><td>Oct 2020</td><td>353</td><...   \n",
       "...                                                 ...   \n",
       "3634  <tr class=\"odd\"><td>Sep 2020</td><td>194</td><...   \n",
       "3635  <tr class=\"odd\"><td>Aug 2020</td><td>703</td><...   \n",
       "3636  <tr class=\"odd\"><td>Sep 2020</td><td>372</td><...   \n",
       "3637  <tr class=\"odd\"><td>Sep 2020</td><td>248</td><...   \n",
       "3638  <tr class=\"odd\"><td>Sep 2020</td><td>223</td><...   \n",
       "\n",
       "                                            paper_title       subject_area  \n",
       "0     The landscape of metabolic pathway dependencie...  Cancer Biology,\\n  \n",
       "1     RAL GTPases mediate EGFR/MAPK signalling-drive...  Cancer Biology,\\n  \n",
       "2                                   Antifragile therapy  Cancer Biology,\\n  \n",
       "3     Somatic chromosomal number alterations affecti...  Cancer Biology,\\n  \n",
       "4     UDP-glucose pyrophosphorylase 2, a regulator o...  Cancer Biology,\\n  \n",
       "...                                                 ...                ...  \n",
       "3634  Cell intrinsic signaling in , mutant pancreati...  Cancer Biology,\\n  \n",
       "3635  Protein arginine methyltransferase 5 promotes ...  Cancer Biology,\\n  \n",
       "3636  NDRG1 expression is an independent prognostic ...  Cancer Biology,\\n  \n",
       "3637  Single-cell RNA-seq of the stromal vascular fr...  Cancer Biology,\\n  \n",
       "3638  Towards establishing Extracellular Vesicle-ass...  Cancer Biology,\\n  \n",
       "\n",
       "[3639 rows x 8 columns]"
      ]
     },
     "execution_count": 120,
     "metadata": {},
     "output_type": "execute_result"
    }
   ],
   "source": [
    "df"
   ]
  },
  {
   "cell_type": "code",
   "execution_count": 17,
   "metadata": {},
   "outputs": [
    {
     "data": {
      "text/plain": [
       "list"
      ]
     },
     "execution_count": 17,
     "metadata": {},
     "output_type": "execute_result"
    }
   ],
   "source": [
    "type(affs.apply(str.split,sep=',')[1])"
   ]
  },
  {
   "cell_type": "code",
   "execution_count": 22,
   "metadata": {},
   "outputs": [],
   "source": [
    "affs = affs.apply(str.split,sep=',')"
   ]
  },
  {
   "cell_type": "code",
   "execution_count": 23,
   "metadata": {},
   "outputs": [
    {
     "data": {
      "text/plain": [
       "0                                                   [1]\n",
       "1     [1, 3, 4, 1, 2, 3, 2, 3, 2, 3, 2, 2, 3, 2, 3, ...\n",
       "2                                 [1, 4, 2, 3, 3, 2, 2]\n",
       "3     [1, 10, 1, 1, 1, 1, 2, 1, 1, 1, 3, 3, 4, 4, 4,...\n",
       "4                  [1, 2, 3, 1, 4, 5, 4, 6, 7, 1, 9, 8]\n",
       "5                                                   [1]\n",
       "6     [1, 1, 1, 1, 1, 1, 1, 2, 3, 1, 1, 1, 1, 1, 4, ...\n",
       "7                                 [1, 1, 1, 2, 1, 1, 3]\n",
       "8                  [1, 1, 1, 1, 1, 1, 1, 2, 1, 1, 1, 3]\n",
       "9     [1, 2, 2, 2, 3, 3, 4, 5, 6, 7, 8, 6, 9, 6, 5, ...\n",
       "10    [1, 1, 1, 1, 1, 1, 1, 1, 2, 2, 1, 3, 1, 2, 1, ...\n",
       "11    [1, 1, 1, 1, 1, 2, 2, 1, 3, 1, 1, 3, 3, 4, 5, ...\n",
       "12                                            [1, 3, 2]\n",
       "13                       [1, *, 1, 2, 3, 4, 5, 6, 7, 4]\n",
       "14                          [1, 1, 2, 3, 4, 2, 1, 5, *]\n",
       "15    [1, 2, *, 1, 3, *, 4, 5, 1, 3, 1, 1, 6, #, 7, ...\n",
       "16                                [1, 2, 3, 4, 1, 1, *]\n",
       "17                                            [1, 2, 3]\n",
       "18                                [1, 2, 2, 2, 1, 1, 3]\n",
       "19                                [1, 1, 2, 3, *, 2, 4]\n",
       "Name: affiliation_nums, dtype: object"
      ]
     },
     "execution_count": 23,
     "metadata": {},
     "output_type": "execute_result"
    }
   ],
   "source": [
    "affs"
   ]
  },
  {
   "cell_type": "code",
   "execution_count": 26,
   "metadata": {},
   "outputs": [],
   "source": [
    "affs_type=df.affiliation_nums.apply(type)"
   ]
  },
  {
   "cell_type": "code",
   "execution_count": 36,
   "metadata": {},
   "outputs": [
    {
     "data": {
      "text/plain": [
       "22      <class 'float'>\n",
       "171     <class 'float'>\n",
       "180     <class 'float'>\n",
       "197     <class 'float'>\n",
       "202     <class 'float'>\n",
       "             ...       \n",
       "1394    <class 'float'>\n",
       "1408    <class 'float'>\n",
       "1430    <class 'float'>\n",
       "1438    <class 'float'>\n",
       "1817    <class 'float'>\n",
       "Name: affiliation_nums, Length: 75, dtype: object"
      ]
     },
     "execution_count": 36,
     "metadata": {},
     "output_type": "execute_result"
    }
   ],
   "source": [
    "affs_type[affs_type==float]"
   ]
  },
  {
   "cell_type": "code",
   "execution_count": 94,
   "metadata": {},
   "outputs": [
    {
     "data": {
      "text/plain": [
       "'\\n\\t\\t\\t\\t, H. Lee Moffitt Cancer Center & Research Institute, Tampa, Florida;\\n\\t\\t\\t,\\n\\t\\t\\t\\t, H. Lee Moffitt Cancer Center & Research Institute;\\n\\t\\t\\t,\\n\\t\\t\\t\\t, Air Force Academy\\n\\t\\t\\t'"
      ]
     },
     "execution_count": 94,
     "metadata": {},
     "output_type": "execute_result"
    }
   ],
   "source": [
    "test = df.affiliation_text[2]\n",
    "test"
   ]
  },
  {
   "cell_type": "code",
   "execution_count": 95,
   "metadata": {},
   "outputs": [],
   "source": [
    "test = test.split(';')"
   ]
  },
  {
   "cell_type": "code",
   "execution_count": 103,
   "metadata": {},
   "outputs": [
    {
     "data": {
      "text/plain": [
       "', H. Lee Moffitt Cancer Center & Research Institute, Tampa, Florida'"
      ]
     },
     "execution_count": 103,
     "metadata": {},
     "output_type": "execute_result"
    }
   ],
   "source": [
    "re.sub('(\\\\n)(\\\\t)+','',test[0])"
   ]
  },
  {
   "cell_type": "code",
   "execution_count": 104,
   "metadata": {},
   "outputs": [],
   "source": [
    "def clean_affiliation(x):\n",
    "    x = x.split(';')\n",
    "    for i in range(len(x)):\n",
    "        x[i] = re.sub('(\\\\n)(\\\\t)+','',x[i])\n",
    "    return(x)"
   ]
  },
  {
   "cell_type": "code",
   "execution_count": 108,
   "metadata": {},
   "outputs": [],
   "source": [
    "test = df.affiliation_text.head()\n",
    "test = test.apply(clean_affiliation)\n",
    "test[0]"
   ]
  },
  {
   "cell_type": "code",
   "execution_count": 93,
   "metadata": {},
   "outputs": [],
   "source": [
    "re.match(',',test[2].strip()).lastindex"
   ]
  },
  {
   "cell_type": "code",
   "execution_count": 113,
   "metadata": {},
   "outputs": [
    {
     "data": {
      "text/plain": [
       "[', University of Cambridge',\n",
       " ',, Cancer Evolution and Genome Instability Laboratory, Francis Crick Institute, London, UK',\n",
       " ',, Cambridge University Hospitals',\n",
       " ',, Astrazeneca',\n",
       " ',, The Francis Crick Institute',\n",
       " ',, University College of London',\n",
       " ',, Francis Crick Institute',\n",
       " ',, BC Cancer Agency',\n",
       " ',, Imperial College of London']"
      ]
     },
     "execution_count": 113,
     "metadata": {},
     "output_type": "execute_result"
    }
   ],
   "source": [
    "test[3]"
   ]
  },
  {
   "cell_type": "code",
   "execution_count": 116,
   "metadata": {},
   "outputs": [
    {
     "data": {
      "text/plain": [
       "0       \\n\\t\\t\\t\\t, University of Southern California\\...\n",
       "1       , Glasgow G61 1QH, United Kingdom,, Glasgow G6...\n",
       "2       \\n\\t\\t\\t\\t, H. Lee Moffitt Cancer Center & Res...\n",
       "3       \\n\\t\\t\\t\\t, University of Cambridge;\\n\\t\\t\\t,\\...\n",
       "4       \\n\\t\\t\\t\\t, Helen Diller Comprehensive Cancer ...\n",
       "                              ...                        \n",
       "3634    , Tucson, Arizona,, Tucson, Arizona,, Tucson, ...\n",
       "3635                                                  NaN\n",
       "3636    , Houston TX,, Houston TX,, Houston TX,, Houst...\n",
       "3637    , Beijing 100037, China,, Chengdu 610041, Chin...\n",
       "3638    , Auckland, New Zealand, Auckland, New Zealand...\n",
       "Name: affiliation_text, Length: 3639, dtype: object"
      ]
     },
     "execution_count": 116,
     "metadata": {},
     "output_type": "execute_result"
    }
   ],
   "source": [
    "df.affiliation_text"
   ]
  },
  {
   "cell_type": "code",
   "execution_count": null,
   "metadata": {},
   "outputs": [],
   "source": []
  }
 ],
 "metadata": {
  "kernelspec": {
   "display_name": "Python 3",
   "language": "python",
   "name": "python3"
  },
  "language_info": {
   "codemirror_mode": {
    "name": "ipython",
    "version": 3
   },
   "file_extension": ".py",
   "mimetype": "text/x-python",
   "name": "python",
   "nbconvert_exporter": "python",
   "pygments_lexer": "ipython3",
   "version": "3.7.4"
  }
 },
 "nbformat": 4,
 "nbformat_minor": 2
}
